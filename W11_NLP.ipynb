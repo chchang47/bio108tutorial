{
  "nbformat": 4,
  "nbformat_minor": 0,
  "metadata": {
    "colab": {
      "provenance": [],
      "toc_visible": true
    },
    "kernelspec": {
      "name": "python3",
      "display_name": "Python 3"
    },
    "language_info": {
      "name": "python"
    }
  },
  "cells": [
    {
      "cell_type": "markdown",
      "source": [
        "# NLP Tutorial: Basic Text Processing and Analysis\n",
        "\n",
        "## Introduction\n",
        "\n",
        "Natural Language Processing (NLP) is a subfield of artificial intelligence that focuses on enabling computers to understand and interpret human language. NLP is becoming increasingly important as text data continues to grow in variety and volume, from social media and news articles to scientific papers and business communications.\n",
        "\n",
        "In this tutorial, we will explore basic NLP techniques that form the foundation for more advanced text analysis. These techniques include **term frequency (TF), TF-IDF, n-grams,** and **sentiment analysis**. We will also touch on an important concept in linguistics called Zipf's Law, which provides insights into how words are distributed in natural language.\n",
        "\n",
        "Zipf's Law states that in any given text or language, the frequency of a word is inversely proportional to its rank in the frequency table. This means that a few words (like \"the,\" \"of,\" or \"and\") will occur very frequently, while the vast majority of words will appear only a few times. This concept is critical to understanding the distribution of word frequencies and can help inform decisions about text processing, such as which words to focus on for feature extraction or which words to consider as stopwords.\n",
        "\n",
        "For example, let's look at a plot of word frequency distribution which follows Zipf's Law. You'll notice that a few words dominate the distribution, while most words appear infrequently.\n",
        "\n",
        "![](https://www.etymologynerd.com/uploads/1/5/8/8/15888322/website.png)\n",
        "\n",
        "This plot demonstrates how the frequency of words declines exponentially as their rank increases, illustrating Zipf’s Law in practice. In text analysis, recognizing this pattern can guide decisions about which words to focus on, especially when creating features for models.\n",
        "\n",
        "Now that we've set the stage, let's dive into the main topics of this tutorial. First, we'll revisit the data scraping from the [W7-Scraping](https://colab.research.google.com/drive/1n-TfXIhfus0FlDH4teAgXFOIYbQJAkbA?usp=sharing) tutorial to build out an \"OpenAlex\" textual dataset on \"biocultural restoration\" scientific studies."
      ],
      "metadata": {
        "id": "DammDN6PZrHu"
      }
    },
    {
      "cell_type": "code",
      "source": [
        "! pip install pyalex # install the OpenAlex Python wrapper package"
      ],
      "metadata": {
        "id": "wl3-jHKHchLV",
        "colab": {
          "base_uri": "https://localhost:8080/"
        },
        "outputId": "0142bb08-ad07-457e-d751-6d8e6750a0e0"
      },
      "execution_count": null,
      "outputs": [
        {
          "output_type": "stream",
          "name": "stdout",
          "text": [
            "Collecting pyalex\n",
            "  Downloading pyalex-0.18-py3-none-any.whl.metadata (14 kB)\n",
            "Requirement already satisfied: requests in /usr/local/lib/python3.11/dist-packages (from pyalex) (2.32.3)\n",
            "Requirement already satisfied: urllib3 in /usr/local/lib/python3.11/dist-packages (from pyalex) (2.3.0)\n",
            "Requirement already satisfied: charset-normalizer<4,>=2 in /usr/local/lib/python3.11/dist-packages (from requests->pyalex) (3.4.1)\n",
            "Requirement already satisfied: idna<4,>=2.5 in /usr/local/lib/python3.11/dist-packages (from requests->pyalex) (3.10)\n",
            "Requirement already satisfied: certifi>=2017.4.17 in /usr/local/lib/python3.11/dist-packages (from requests->pyalex) (2025.1.31)\n",
            "Downloading pyalex-0.18-py3-none-any.whl (13 kB)\n",
            "Installing collected packages: pyalex\n",
            "Successfully installed pyalex-0.18\n"
          ]
        }
      ]
    },
    {
      "cell_type": "code",
      "source": [
        "### Import the PyAlex package and functions\n",
        "import pyalex\n",
        "from pyalex import Works, Authors, Sources, Institutions, Topics, Publishers, Funders\n",
        "from pyalex import config\n",
        "\n",
        "### Import additional packages that we will need\n",
        "import pandas as pd\n",
        "import matplotlib.pyplot as plt\n",
        "import numpy as np\n",
        "\n",
        "### NLP packages we need\n",
        "from sklearn.feature_extraction.text import CountVectorizer\n",
        "from sklearn.feature_extraction.text import TfidfVectorizer\n",
        "import nltk\n",
        "nltk.download('vader_lexicon')\n",
        "from nltk.util import ngrams\n",
        "from nltk.sentiment import SentimentIntensityAnalyzer"
      ],
      "metadata": {
        "id": "I89kNCy_coio",
        "colab": {
          "base_uri": "https://localhost:8080/"
        },
        "outputId": "14bd3456-aaf3-493e-a909-5db125d500dd"
      },
      "execution_count": null,
      "outputs": [
        {
          "output_type": "stream",
          "name": "stderr",
          "text": [
            "[nltk_data] Downloading package vader_lexicon to /root/nltk_data...\n"
          ]
        }
      ]
    },
    {
      "cell_type": "code",
      "source": [
        "### Provide your email address so that you can enter the \"polite pool\"\n",
        "### and get much more rapid request delivery\n",
        "### FMI: https://docs.openalex.org/how-to-use-the-api/rate-limits-and-authentication#the-polite-pool\n",
        "pyalex.config.email = \"cecil.sagehen47@pomona.edu\" # replace with your email"
      ],
      "metadata": {
        "id": "iWy_QBg8cvNl"
      },
      "execution_count": null,
      "outputs": []
    },
    {
      "cell_type": "code",
      "source": [
        "### Specify some controls for the API querying\n",
        "### such as how many times you will retry a failed request\n",
        "config.max_retries = 3\n",
        "config.retry_backoff_factor = 0.1\n",
        "config.retry_http_codes = [429, 500, 503]"
      ],
      "metadata": {
        "id": "LUSbFnqLcy8p"
      },
      "execution_count": null,
      "outputs": []
    },
    {
      "cell_type": "code",
      "source": [
        "### Query for studies that include the term \"biocultural restoration\"\n",
        "### in the abstract field. By default, this returns only 25 results\n",
        "\n",
        "### Combining elements of the W7 tutorial, we will build a slightly larger dataset with 100 studies\n",
        "### Recall that to do so, we need to instantiate a cursor or pager to \"page\" through results\n",
        "\n",
        "### Initialize a pager\n",
        "pager = Works().search_filter(abstract=\"biocultural restoration\").paginate(method=\"page\",per_page=25, n_max=100) # keep this small and toy, n_max=100"
      ],
      "metadata": {
        "id": "EIn0Nwq7c1Ky"
      },
      "execution_count": null,
      "outputs": []
    },
    {
      "cell_type": "code",
      "source": [
        "### Collect all results\n",
        "all_results = []\n",
        "for page in pager:\n",
        "  all_results.extend(page) # Concatenate to the initially empty list (then add to existing list) of studies from the current page (e.g. 0-25, 26-50, 51-75, etc.)"
      ],
      "metadata": {
        "id": "07d5fqdFdV_v"
      },
      "execution_count": null,
      "outputs": []
    },
    {
      "cell_type": "code",
      "source": [
        "### Convert this set of results to a larger pandas DataFrame\n",
        "biocultural_big = pd.DataFrame(all_results)"
      ],
      "metadata": {
        "id": "0tQqLMEEdWZM"
      },
      "execution_count": null,
      "outputs": []
    },
    {
      "cell_type": "code",
      "source": [
        "### Display our results - controls\n",
        "pd.set_option('display.max_columns',55)\n",
        "# pd.reset_option('display.max_columns') # uncomment to reset to default"
      ],
      "metadata": {
        "id": "MApOss6NdeT9"
      },
      "execution_count": null,
      "outputs": []
    },
    {
      "cell_type": "code",
      "source": [
        "### Inspect our data\n",
        "biocultural_big.abstract_inverted_index.head(5)"
      ],
      "metadata": {
        "id": "xW_CoZGDdjiP",
        "colab": {
          "base_uri": "https://localhost:8080/",
          "height": 241
        },
        "outputId": "ccc01532-c6aa-478a-bd1c-088a68593ac5"
      },
      "execution_count": null,
      "outputs": [
        {
          "output_type": "execute_result",
          "data": {
            "text/plain": [
              "0    {'Through': [0], 'research,': [1], 'restoratio...\n",
              "1    {'Social-ecological': [0], 'system': [1, 31], ...\n",
              "2    {'As': [0], 'an': [1, 48], 'introduction': [2]...\n",
              "3    {'A': [0], 'pluralist': [1], 'and': [2, 13, 29...\n",
              "4    {'Human': [0], 'activity': [1], 'has': [2, 16,...\n",
              "Name: abstract_inverted_index, dtype: object"
            ],
            "text/html": [
              "<div>\n",
              "<style scoped>\n",
              "    .dataframe tbody tr th:only-of-type {\n",
              "        vertical-align: middle;\n",
              "    }\n",
              "\n",
              "    .dataframe tbody tr th {\n",
              "        vertical-align: top;\n",
              "    }\n",
              "\n",
              "    .dataframe thead th {\n",
              "        text-align: right;\n",
              "    }\n",
              "</style>\n",
              "<table border=\"1\" class=\"dataframe\">\n",
              "  <thead>\n",
              "    <tr style=\"text-align: right;\">\n",
              "      <th></th>\n",
              "      <th>abstract_inverted_index</th>\n",
              "    </tr>\n",
              "  </thead>\n",
              "  <tbody>\n",
              "    <tr>\n",
              "      <th>0</th>\n",
              "      <td>{'Through': [0], 'research,': [1], 'restoratio...</td>\n",
              "    </tr>\n",
              "    <tr>\n",
              "      <th>1</th>\n",
              "      <td>{'Social-ecological': [0], 'system': [1, 31], ...</td>\n",
              "    </tr>\n",
              "    <tr>\n",
              "      <th>2</th>\n",
              "      <td>{'As': [0], 'an': [1, 48], 'introduction': [2]...</td>\n",
              "    </tr>\n",
              "    <tr>\n",
              "      <th>3</th>\n",
              "      <td>{'A': [0], 'pluralist': [1], 'and': [2, 13, 29...</td>\n",
              "    </tr>\n",
              "    <tr>\n",
              "      <th>4</th>\n",
              "      <td>{'Human': [0], 'activity': [1], 'has': [2, 16,...</td>\n",
              "    </tr>\n",
              "  </tbody>\n",
              "</table>\n",
              "</div><br><label><b>dtype:</b> object</label>"
            ]
          },
          "metadata": {},
          "execution_count": 27
        }
      ]
    },
    {
      "cell_type": "markdown",
      "source": [
        "## Step 1: Convert Abstract Inverted Index to Full Text\n",
        "\n",
        "Many NLP datasets, especially large ones, store text in compressed forms like an inverted index ([FMI here](https://en.wikipedia.org/wiki/Inverted_index)). This is an efficient way to store and search for words across multiple documents. However, to perform analysis on the actual text, we often need to convert these compact representations back into plain text.\n",
        "\n",
        "For example, the `abstract_inverted_index` field might look like this:\n",
        "\n",
        "```json\n",
        "{\n",
        "    \"Through\": [0],\n",
        "    \"research\": [1],\n",
        "    \"restoration\": [2],\n",
        "    \"biodiversity\": [3]\n",
        "}\n",
        "```\n",
        "\n",
        "The goal is to convert this inverted index back to its original text form, where words are arranged in the order they appear in the document.\n",
        "\n",
        "To do this, we will extract the keys (the words) from the inverted index and join them together into a single string of text.\n",
        "\n",
        "```python\n",
        "# Sample inverted index data\n",
        "sample_inverted_index = {\n",
        "    \"Through\": [0],\n",
        "    \"research\": [1],\n",
        "    \"restoration\": [2],\n",
        "    \"biodiversity\": [3],\n",
        "}\n",
        "\n",
        "# Convert inverted index to plain text\n",
        "def inverted_index_to_text(inverted_index):\n",
        "    return \" \".join([word for word in inverted_index.keys()])\n",
        "\n",
        "full_text = inverted_index_to_text(sample_inverted_index)\n",
        "print(full_text)\n",
        "```\n",
        "\n",
        "This function simply extracts the words from the inverted index and combines them into a readable string. In practice, you would apply this function to the entire dataset to prepare it for further analysis.\n",
        "\n",
        "**Advancing your learning**: How would you apply this to the OpenAlex dataset?\n",
        "\n",
        "Hints:\n",
        "\n",
        "* Using `biocultural_big`, which column contains the abstract text in this inverted index format?\n",
        "* How would you apply a function to convert the inverted index text back to plain text?\n",
        "* How would you store the plain text abstract text as a new column for downstream analyses?\n"
      ],
      "metadata": {
        "id": "tcN5zbjtbCS5"
      }
    },
    {
      "cell_type": "code",
      "execution_count": null,
      "metadata": {
        "id": "_hVOznUrZovU"
      },
      "outputs": [],
      "source": [
        "# Sample inverted index data\n",
        "sample_inverted_index = {\n",
        "    \"Through\": [0],\n",
        "    \"research\": [1],\n",
        "    \"restoration\": [2],\n",
        "    \"biodiversity\": [3],\n",
        "}"
      ]
    },
    {
      "cell_type": "code",
      "source": [
        "# Convert inverted index to plain text\n",
        "def inverted_index_to_text(inverted_index):\n",
        "    return \" \".join([word for word in inverted_index.keys()])"
      ],
      "metadata": {
        "id": "FQLo8uBPQagI"
      },
      "execution_count": null,
      "outputs": []
    },
    {
      "cell_type": "code",
      "source": [
        "sample_inverted_index.keys()"
      ],
      "metadata": {
        "colab": {
          "base_uri": "https://localhost:8080/"
        },
        "id": "QKmo4h63Qi0v",
        "outputId": "6ded9566-98df-445b-c873-159a295b186c"
      },
      "execution_count": null,
      "outputs": [
        {
          "output_type": "execute_result",
          "data": {
            "text/plain": [
              "dict_keys(['Through', 'research', 'restoration', 'biodiversity'])"
            ]
          },
          "metadata": {},
          "execution_count": 17
        }
      ]
    },
    {
      "cell_type": "code",
      "source": [
        "full_text = inverted_index_to_text(sample_inverted_index)\n",
        "print(full_text)"
      ],
      "metadata": {
        "colab": {
          "base_uri": "https://localhost:8080/"
        },
        "id": "GLhbwpI2Qnx3",
        "outputId": "ba0dee67-3a13-4f72-84b0-9aa0ed6bde98"
      },
      "execution_count": null,
      "outputs": [
        {
          "output_type": "stream",
          "name": "stdout",
          "text": [
            "Through research restoration biodiversity\n"
          ]
        }
      ]
    },
    {
      "cell_type": "markdown",
      "source": [
        "### Applying this function to our own data\n",
        "\n",
        "Objective:\n",
        "\n",
        "* Apply this `inverted_index_to_text` function to the `biocultural_big` dataframe - specifically, the appropriate abstract columns;\n",
        "* Test this out on one row of data\n",
        "* Scale this up to the full dataset"
      ],
      "metadata": {
        "id": "laAfg6nxSluj"
      }
    },
    {
      "cell_type": "code",
      "source": [
        "inverted_index_to_text(biocultural_big.abstract_inverted_index.loc[0])"
      ],
      "metadata": {
        "colab": {
          "base_uri": "https://localhost:8080/",
          "height": 192
        },
        "id": "pg6zHgK6SvK4",
        "outputId": "fd12c65f-7b23-4bda-b7cc-84621d6a6698"
      },
      "execution_count": null,
      "outputs": [
        {
          "output_type": "execute_result",
          "data": {
            "text/plain": [
              "'Through research, restoration of agro-ecological sites, and a renaissance cultural awareness in Hawaiʻi, there has been growing recognition the ingenuity Hawaiian biocultural resource management system. The contemporary term for this system, “the ahupuaʻa system”, does not accurately convey nuances system function, it inhibits an understanding about complexity system’s management. We examined six aspects to understand its framework systematic Based on more holistic structure we introduce term, moku describe which divided large islands into social-ecological regions further interrelated communities. This had several zones running horizontally across each region, individual communities vertically while connecting them adjacent horizontally; and, thus, created mosaic that contained forested landscapes, seascapes, synergistically harnessed diversity ecosystem services facilitate abundance resources. “The is conducive large-scale period, being inclusive smaller-scale divisions allowed highly functional'"
            ],
            "application/vnd.google.colaboratory.intrinsic+json": {
              "type": "string"
            }
          },
          "metadata": {},
          "execution_count": 19
        }
      ]
    },
    {
      "cell_type": "code",
      "source": [
        "# Convert inverted index to plain text\n",
        "def inverted_index_to_text(inverted_index):\n",
        "    # Instantiate a placeholder dictionary to do the value-key flipping\n",
        "    position_word_map = {}\n",
        "    # Unpack the inverted index into a dictionary where the key is the position and teh value is the word\n",
        "    for word, positions in inverted_index.items():\n",
        "        for pos in positions:\n",
        "          position_word_map[pos] = word\n",
        "\n",
        "    # Find the maximum position to determine the length of the text\n",
        "    max_position = max(position_word_map.keys())\n",
        "\n",
        "    # Initialize a list of empty strings to represent the text positions\n",
        "    text = [\"\"] * (max_position + 1)\n",
        "\n",
        "    # Place words in the correct position\n",
        "    for pos, word in position_word_map.items():\n",
        "      text[pos] = word\n",
        "\n",
        "    return \" \".join(text)"
      ],
      "metadata": {
        "id": "YYZZCF72TLOt"
      },
      "execution_count": null,
      "outputs": []
    },
    {
      "cell_type": "code",
      "source": [
        "inverted_index_to_text(biocultural_big.abstract_inverted_index.loc[5])"
      ],
      "metadata": {
        "colab": {
          "base_uri": "https://localhost:8080/",
          "height": 192
        },
        "id": "LQqT1iUqUVDm",
        "outputId": "76d3161d-865d-4767-88f5-a46cad4d92aa"
      },
      "execution_count": null,
      "outputs": [
        {
          "output_type": "execute_result",
          "data": {
            "text/plain": [
              "'There are growing efforts around the world to restore biocultural systems that produce food while also providing additional cultural and ecological benefits. Yet, there are few examples of integrated assessments of these efforts, impeding understanding of how they can contribute to multi-level sustainability goals. In this study, we collaborated with a community-based non-profit in He‘eia, O‘ahu to evaluate future scenarios of traditional wetland and flooded field system agriculture (lo‘i kalo; taro fields) restoration in terms of locally-relevant cultural, ecological, and economic outcomes as well as broader State of Hawai‘i sustainability goals around food, energy, and water. Families participating in the biocultural restoration program described a suite of community and cultural benefits stemming from the process of restoration, including enhanced social connections, cultural (re)connections to place, and physical and mental well-being, which inspired their sustained participation. We also found benefits in terms of local food production that have the potential to provide economic returns and energy savings over time, particularly when carried out through a hybrid non-profit and family management model. These benefits were coupled with potential changes in sediment and nutrient retention with implications for water quality and the health of an important downstream fish pond (loko i‘a) and coral reef social-ecological system. Compared with the current land cover (primarily invasive grasses), results suggest that full restoration of lo‘i kalo would decrease sediment export by ~38%, but triple nitrogen export due to organic fertilizer additions. However, compared with an urban scenario, there were clear benefits of agricultural restoration in terms of reduced nitrogen and sediment runoff. In combination, our results demonstrate that a biocultural approach can support the social and financial sustainability of agricultural systems that provide multiple benefits valued by the local community and non-profit while also contributing to statewide sustainability goals.'"
            ],
            "application/vnd.google.colaboratory.intrinsic+json": {
              "type": "string"
            }
          },
          "metadata": {},
          "execution_count": 26
        }
      ]
    },
    {
      "cell_type": "code",
      "source": [
        "### Apply this to the totality of all the abstracts in our data frame?\n",
        "biocultural_big['abstract_text'] = biocultural_big.abstract_inverted_index.apply(inverted_index_to_text) # biocultural_big['abstract_inverted_index']"
      ],
      "metadata": {
        "id": "mA4i_ObJUgqM"
      },
      "execution_count": null,
      "outputs": []
    },
    {
      "cell_type": "code",
      "source": [
        "biocultural_big.abstract_text.loc[:5]"
      ],
      "metadata": {
        "colab": {
          "base_uri": "https://localhost:8080/",
          "height": 272
        },
        "id": "DA9SIPuRVB7S",
        "outputId": "fc57a026-dc18-4d00-e879-4e11b136063b"
      },
      "execution_count": null,
      "outputs": [
        {
          "output_type": "execute_result",
          "data": {
            "text/plain": [
              "0    Through research, restoration of agro-ecologic...\n",
              "1    Social-ecological system theory draws upon con...\n",
              "2    As an introduction to the special issue on “Bi...\n",
              "3    A pluralist and cross‐cultural approach that a...\n",
              "4    Human activity has altered nearly every landsc...\n",
              "5    There are growing efforts around the world to ...\n",
              "Name: abstract_text, dtype: object"
            ],
            "text/html": [
              "<div>\n",
              "<style scoped>\n",
              "    .dataframe tbody tr th:only-of-type {\n",
              "        vertical-align: middle;\n",
              "    }\n",
              "\n",
              "    .dataframe tbody tr th {\n",
              "        vertical-align: top;\n",
              "    }\n",
              "\n",
              "    .dataframe thead th {\n",
              "        text-align: right;\n",
              "    }\n",
              "</style>\n",
              "<table border=\"1\" class=\"dataframe\">\n",
              "  <thead>\n",
              "    <tr style=\"text-align: right;\">\n",
              "      <th></th>\n",
              "      <th>abstract_text</th>\n",
              "    </tr>\n",
              "  </thead>\n",
              "  <tbody>\n",
              "    <tr>\n",
              "      <th>0</th>\n",
              "      <td>Through research, restoration of agro-ecologic...</td>\n",
              "    </tr>\n",
              "    <tr>\n",
              "      <th>1</th>\n",
              "      <td>Social-ecological system theory draws upon con...</td>\n",
              "    </tr>\n",
              "    <tr>\n",
              "      <th>2</th>\n",
              "      <td>As an introduction to the special issue on “Bi...</td>\n",
              "    </tr>\n",
              "    <tr>\n",
              "      <th>3</th>\n",
              "      <td>A pluralist and cross‐cultural approach that a...</td>\n",
              "    </tr>\n",
              "    <tr>\n",
              "      <th>4</th>\n",
              "      <td>Human activity has altered nearly every landsc...</td>\n",
              "    </tr>\n",
              "    <tr>\n",
              "      <th>5</th>\n",
              "      <td>There are growing efforts around the world to ...</td>\n",
              "    </tr>\n",
              "  </tbody>\n",
              "</table>\n",
              "</div><br><label><b>dtype:</b> object</label>"
            ]
          },
          "metadata": {},
          "execution_count": 29
        }
      ]
    },
    {
      "cell_type": "code",
      "source": [
        "biocultural_big.info()"
      ],
      "metadata": {
        "colab": {
          "base_uri": "https://localhost:8080/"
        },
        "id": "n8eVbEn9VFTZ",
        "outputId": "3a2dcdd1-d63c-461c-9194-11070e9383a6"
      },
      "execution_count": null,
      "outputs": [
        {
          "output_type": "stream",
          "name": "stdout",
          "text": [
            "<class 'pandas.core.frame.DataFrame'>\n",
            "RangeIndex: 100 entries, 0 to 99\n",
            "Data columns (total 53 columns):\n",
            " #   Column                          Non-Null Count  Dtype  \n",
            "---  ------                          --------------  -----  \n",
            " 0   id                              100 non-null    object \n",
            " 1   doi                             95 non-null     object \n",
            " 2   title                           100 non-null    object \n",
            " 3   display_name                    100 non-null    object \n",
            " 4   relevance_score                 100 non-null    float64\n",
            " 5   publication_year                100 non-null    int64  \n",
            " 6   publication_date                100 non-null    object \n",
            " 7   ids                             100 non-null    object \n",
            " 8   language                        100 non-null    object \n",
            " 9   primary_location                100 non-null    object \n",
            " 10  type                            100 non-null    object \n",
            " 11  type_crossref                   100 non-null    object \n",
            " 12  indexed_in                      100 non-null    object \n",
            " 13  open_access                     100 non-null    object \n",
            " 14  authorships                     100 non-null    object \n",
            " 15  institution_assertions          100 non-null    object \n",
            " 16  countries_distinct_count        100 non-null    int64  \n",
            " 17  institutions_distinct_count     100 non-null    int64  \n",
            " 18  corresponding_author_ids        100 non-null    object \n",
            " 19  corresponding_institution_ids   100 non-null    object \n",
            " 20  apc_list                        44 non-null     object \n",
            " 21  apc_paid                        36 non-null     object \n",
            " 22  fwci                            77 non-null     float64\n",
            " 23  has_fulltext                    100 non-null    bool   \n",
            " 24  fulltext_origin                 47 non-null     object \n",
            " 25  cited_by_count                  100 non-null    int64  \n",
            " 26  citation_normalized_percentile  82 non-null     object \n",
            " 27  cited_by_percentile_year        100 non-null    object \n",
            " 28  biblio                          100 non-null    object \n",
            " 29  is_retracted                    100 non-null    bool   \n",
            " 30  is_paratext                     100 non-null    bool   \n",
            " 31  primary_topic                   85 non-null     object \n",
            " 32  topics                          100 non-null    object \n",
            " 33  keywords                        100 non-null    object \n",
            " 34  concepts                        100 non-null    object \n",
            " 35  mesh                            100 non-null    object \n",
            " 36  locations_count                 100 non-null    int64  \n",
            " 37  locations                       100 non-null    object \n",
            " 38  best_oa_location                73 non-null     object \n",
            " 39  sustainable_development_goals   100 non-null    object \n",
            " 40  grants                          100 non-null    object \n",
            " 41  datasets                        100 non-null    object \n",
            " 42  versions                        100 non-null    object \n",
            " 43  referenced_works_count          100 non-null    int64  \n",
            " 44  referenced_works                100 non-null    object \n",
            " 45  related_works                   100 non-null    object \n",
            " 46  abstract_inverted_index         100 non-null    object \n",
            " 47  abstract_inverted_index_v3      0 non-null      object \n",
            " 48  cited_by_api_url                100 non-null    object \n",
            " 49  counts_by_year                  100 non-null    object \n",
            " 50  updated_date                    100 non-null    object \n",
            " 51  created_date                    100 non-null    object \n",
            " 52  abstract_text                   100 non-null    object \n",
            "dtypes: bool(3), float64(2), int64(6), object(42)\n",
            "memory usage: 39.5+ KB\n"
          ]
        }
      ]
    },
    {
      "cell_type": "markdown",
      "source": [
        "## Step 2: Term Frequency (TF)\n",
        "\n",
        "**Term Frequency (TF)** is one of the simplest metrics in text mining. It measures how frequently a term appears in a document. The higher the TF for a word in a document, the more important that word is considered in that document.\n",
        "\n",
        "We can compute TF using the `CountVectorizer` method from `scikit-learn`, which automatically handles the tokenization and counts the occurrences of each word in the text.\n",
        "\n",
        "```python\n",
        "from sklearn.feature_extraction.text import CountVectorizer\n",
        "\n",
        "# Create a CountVectorizer object to compute term frequency\n",
        "vectorizer = CountVectorizer()\n",
        "X = vectorizer.fit_transform(df['abstract_inverted_index'])  # Replace with actual field containing abstract text\n",
        "\n",
        "# Get the terms (words)\n",
        "terms = vectorizer.get_feature_names_out()\n",
        "\n",
        "# Get the TF matrix\n",
        "tf_matrix = X.toarray()\n",
        "\n",
        "# Convert to DataFrame for easier viewing\n",
        "tf_df = pd.DataFrame(tf_matrix, columns=terms)\n",
        "print(tf_df.head())\n",
        "```\n",
        "\n",
        "This code creates a matrix where each row represents a document and each column represents a word. The value at each position in the matrix indicates the frequency of that word in the corresponding document. The result is a **document-term matrix**.\n",
        "\n",
        "**Advancing your learning**: How would you apply this to the OpenAlex dataset?\n",
        "\n",
        "Hints:\n",
        "\n",
        "* Which column might you use from `biocultural_big` as input data to the `CountVectorizer` method?\n",
        "* How would you display your own document-term matrix?"
      ],
      "metadata": {
        "id": "fUCEbRUIeQkt"
      }
    },
    {
      "cell_type": "code",
      "source": [
        "# Create a CountVectorizer object to compute term frequency\n",
        "vectorizer = CountVectorizer()"
      ],
      "metadata": {
        "id": "rMUPdz2ffesj"
      },
      "execution_count": null,
      "outputs": []
    },
    {
      "cell_type": "code",
      "source": [
        "# Fit the count vectorizer model to our \"real human\" abstract text (not the inverted index)\n",
        "X = vectorizer.fit_transform(biocultural_big.abstract_text)"
      ],
      "metadata": {
        "id": "YvGRJnxrWzYo"
      },
      "execution_count": null,
      "outputs": []
    },
    {
      "cell_type": "code",
      "source": [
        "# Get the terms (words)\n",
        "terms = vectorizer.get_feature_names_out()"
      ],
      "metadata": {
        "id": "4R45drkDX8-E"
      },
      "execution_count": null,
      "outputs": []
    },
    {
      "cell_type": "code",
      "source": [
        "# Get the TF matrix\n",
        "tf_matrix = X.toarray()"
      ],
      "metadata": {
        "id": "0OJLmSsfYBKr"
      },
      "execution_count": null,
      "outputs": []
    },
    {
      "cell_type": "code",
      "source": [
        "# Convert to DataFrame for easier viewing\n",
        "tf_df = pd.DataFrame(tf_matrix, columns=terms)"
      ],
      "metadata": {
        "id": "UuTI08YdYIzJ"
      },
      "execution_count": null,
      "outputs": []
    },
    {
      "cell_type": "code",
      "source": [
        "tf_df.head()"
      ],
      "metadata": {
        "colab": {
          "base_uri": "https://localhost:8080/",
          "height": 255
        },
        "id": "jXZ1I27IYLrs",
        "outputId": "87cdf84c-e9ad-444a-cc23-f5cbaabe4e15"
      },
      "execution_count": null,
      "outputs": [
        {
          "output_type": "execute_result",
          "data": {
            "text/plain": [
              "   000  0066  10  100  1000  10027  100crossref  101  101google  102  1027  \\\n",
              "0    0     0   0    0     0      0            0    0          0    0     0   \n",
              "1    0     0   0    0     0      0            0    0          0    0     0   \n",
              "2    0     0   0    0     0      0            0    0          0    0     0   \n",
              "3    0     0   0    0     0      0            0    0          0    0     0   \n",
              "4    0     0   0    0     0      0            0    0          0    0     0   \n",
              "\n",
              "   10294  102crossref  103  104  10458  10497  105  1050  10502crossref  \\\n",
              "0      0            0    0    0      0      0    0     0              0   \n",
              "1      0            0    0    0      0      0    0     0              0   \n",
              "2      0            0    0    0      0      0    0     0              0   \n",
              "3      0            0    0    0      0      0    0     0              0   \n",
              "4      0            0    0    0      0      0    0     0              0   \n",
              "\n",
              "   10531  106  1061  10681  107  108  1085  ...  zo  zone  zones  zoning  \\\n",
              "0      0    0     0      0    0    0     0  ...   0     0      1       0   \n",
              "1      0    0     0      0    0    0     0  ...   0     0      0       0   \n",
              "2      0    0     0      0    0    0     0  ...   0     0      0       0   \n",
              "3      0    0     0      0    0    0     0  ...   0     0      0       0   \n",
              "4      0    0     0      0    0    0     0  ...   0     0      0       0   \n",
              "\n",
              "   zool  zoological  zoology  zoología  zuptas  zurba  zurich  álq  álvarez  \\\n",
              "0     0           0        0         0       0      0       0    0        0   \n",
              "1     0           0        0         0       0      0       0    0        0   \n",
              "2     0           0        0         0       0      0       0    0        0   \n",
              "3     0           0        0         0       0      0       0    0        0   \n",
              "4     0           0        0         0       0      0       0    0        0   \n",
              "\n",
              "   árboles  área  échantillons  études  útil  āina  ōiwi  ūpūlehu  ʻamaʻama  \\\n",
              "0        0     0             0       0     0     0     0        0         0   \n",
              "1        0     0             0       0     0     0     0        0         0   \n",
              "2        0     0             0       0     0     1     0        0         0   \n",
              "3        0     0             0       0     0     0     0        0         0   \n",
              "4        0     0             0       0     0     0     0        0         0   \n",
              "\n",
              "   ʻawa  ʻuala  ʻāina  ʻōhiʻa  ʻōiwi  \n",
              "0     0      0      0       0      0  \n",
              "1     0      0      0       0      0  \n",
              "2     0      0      0       0      0  \n",
              "3     0      0      0       0      0  \n",
              "4     0      0      0       0      0  \n",
              "\n",
              "[5 rows x 8151 columns]"
            ],
            "text/html": [
              "\n",
              "  <div id=\"df-8d2e1066-bd6e-49c0-baa1-f2caffdd1ca5\" class=\"colab-df-container\">\n",
              "    <div>\n",
              "<style scoped>\n",
              "    .dataframe tbody tr th:only-of-type {\n",
              "        vertical-align: middle;\n",
              "    }\n",
              "\n",
              "    .dataframe tbody tr th {\n",
              "        vertical-align: top;\n",
              "    }\n",
              "\n",
              "    .dataframe thead th {\n",
              "        text-align: right;\n",
              "    }\n",
              "</style>\n",
              "<table border=\"1\" class=\"dataframe\">\n",
              "  <thead>\n",
              "    <tr style=\"text-align: right;\">\n",
              "      <th></th>\n",
              "      <th>000</th>\n",
              "      <th>0066</th>\n",
              "      <th>10</th>\n",
              "      <th>100</th>\n",
              "      <th>1000</th>\n",
              "      <th>10027</th>\n",
              "      <th>100crossref</th>\n",
              "      <th>101</th>\n",
              "      <th>101google</th>\n",
              "      <th>102</th>\n",
              "      <th>1027</th>\n",
              "      <th>10294</th>\n",
              "      <th>102crossref</th>\n",
              "      <th>103</th>\n",
              "      <th>104</th>\n",
              "      <th>10458</th>\n",
              "      <th>10497</th>\n",
              "      <th>105</th>\n",
              "      <th>1050</th>\n",
              "      <th>10502crossref</th>\n",
              "      <th>10531</th>\n",
              "      <th>106</th>\n",
              "      <th>1061</th>\n",
              "      <th>10681</th>\n",
              "      <th>107</th>\n",
              "      <th>108</th>\n",
              "      <th>1085</th>\n",
              "      <th>...</th>\n",
              "      <th>zo</th>\n",
              "      <th>zone</th>\n",
              "      <th>zones</th>\n",
              "      <th>zoning</th>\n",
              "      <th>zool</th>\n",
              "      <th>zoological</th>\n",
              "      <th>zoology</th>\n",
              "      <th>zoología</th>\n",
              "      <th>zuptas</th>\n",
              "      <th>zurba</th>\n",
              "      <th>zurich</th>\n",
              "      <th>álq</th>\n",
              "      <th>álvarez</th>\n",
              "      <th>árboles</th>\n",
              "      <th>área</th>\n",
              "      <th>échantillons</th>\n",
              "      <th>études</th>\n",
              "      <th>útil</th>\n",
              "      <th>āina</th>\n",
              "      <th>ōiwi</th>\n",
              "      <th>ūpūlehu</th>\n",
              "      <th>ʻamaʻama</th>\n",
              "      <th>ʻawa</th>\n",
              "      <th>ʻuala</th>\n",
              "      <th>ʻāina</th>\n",
              "      <th>ʻōhiʻa</th>\n",
              "      <th>ʻōiwi</th>\n",
              "    </tr>\n",
              "  </thead>\n",
              "  <tbody>\n",
              "    <tr>\n",
              "      <th>0</th>\n",
              "      <td>0</td>\n",
              "      <td>0</td>\n",
              "      <td>0</td>\n",
              "      <td>0</td>\n",
              "      <td>0</td>\n",
              "      <td>0</td>\n",
              "      <td>0</td>\n",
              "      <td>0</td>\n",
              "      <td>0</td>\n",
              "      <td>0</td>\n",
              "      <td>0</td>\n",
              "      <td>0</td>\n",
              "      <td>0</td>\n",
              "      <td>0</td>\n",
              "      <td>0</td>\n",
              "      <td>0</td>\n",
              "      <td>0</td>\n",
              "      <td>0</td>\n",
              "      <td>0</td>\n",
              "      <td>0</td>\n",
              "      <td>0</td>\n",
              "      <td>0</td>\n",
              "      <td>0</td>\n",
              "      <td>0</td>\n",
              "      <td>0</td>\n",
              "      <td>0</td>\n",
              "      <td>0</td>\n",
              "      <td>...</td>\n",
              "      <td>0</td>\n",
              "      <td>0</td>\n",
              "      <td>1</td>\n",
              "      <td>0</td>\n",
              "      <td>0</td>\n",
              "      <td>0</td>\n",
              "      <td>0</td>\n",
              "      <td>0</td>\n",
              "      <td>0</td>\n",
              "      <td>0</td>\n",
              "      <td>0</td>\n",
              "      <td>0</td>\n",
              "      <td>0</td>\n",
              "      <td>0</td>\n",
              "      <td>0</td>\n",
              "      <td>0</td>\n",
              "      <td>0</td>\n",
              "      <td>0</td>\n",
              "      <td>0</td>\n",
              "      <td>0</td>\n",
              "      <td>0</td>\n",
              "      <td>0</td>\n",
              "      <td>0</td>\n",
              "      <td>0</td>\n",
              "      <td>0</td>\n",
              "      <td>0</td>\n",
              "      <td>0</td>\n",
              "    </tr>\n",
              "    <tr>\n",
              "      <th>1</th>\n",
              "      <td>0</td>\n",
              "      <td>0</td>\n",
              "      <td>0</td>\n",
              "      <td>0</td>\n",
              "      <td>0</td>\n",
              "      <td>0</td>\n",
              "      <td>0</td>\n",
              "      <td>0</td>\n",
              "      <td>0</td>\n",
              "      <td>0</td>\n",
              "      <td>0</td>\n",
              "      <td>0</td>\n",
              "      <td>0</td>\n",
              "      <td>0</td>\n",
              "      <td>0</td>\n",
              "      <td>0</td>\n",
              "      <td>0</td>\n",
              "      <td>0</td>\n",
              "      <td>0</td>\n",
              "      <td>0</td>\n",
              "      <td>0</td>\n",
              "      <td>0</td>\n",
              "      <td>0</td>\n",
              "      <td>0</td>\n",
              "      <td>0</td>\n",
              "      <td>0</td>\n",
              "      <td>0</td>\n",
              "      <td>...</td>\n",
              "      <td>0</td>\n",
              "      <td>0</td>\n",
              "      <td>0</td>\n",
              "      <td>0</td>\n",
              "      <td>0</td>\n",
              "      <td>0</td>\n",
              "      <td>0</td>\n",
              "      <td>0</td>\n",
              "      <td>0</td>\n",
              "      <td>0</td>\n",
              "      <td>0</td>\n",
              "      <td>0</td>\n",
              "      <td>0</td>\n",
              "      <td>0</td>\n",
              "      <td>0</td>\n",
              "      <td>0</td>\n",
              "      <td>0</td>\n",
              "      <td>0</td>\n",
              "      <td>0</td>\n",
              "      <td>0</td>\n",
              "      <td>0</td>\n",
              "      <td>0</td>\n",
              "      <td>0</td>\n",
              "      <td>0</td>\n",
              "      <td>0</td>\n",
              "      <td>0</td>\n",
              "      <td>0</td>\n",
              "    </tr>\n",
              "    <tr>\n",
              "      <th>2</th>\n",
              "      <td>0</td>\n",
              "      <td>0</td>\n",
              "      <td>0</td>\n",
              "      <td>0</td>\n",
              "      <td>0</td>\n",
              "      <td>0</td>\n",
              "      <td>0</td>\n",
              "      <td>0</td>\n",
              "      <td>0</td>\n",
              "      <td>0</td>\n",
              "      <td>0</td>\n",
              "      <td>0</td>\n",
              "      <td>0</td>\n",
              "      <td>0</td>\n",
              "      <td>0</td>\n",
              "      <td>0</td>\n",
              "      <td>0</td>\n",
              "      <td>0</td>\n",
              "      <td>0</td>\n",
              "      <td>0</td>\n",
              "      <td>0</td>\n",
              "      <td>0</td>\n",
              "      <td>0</td>\n",
              "      <td>0</td>\n",
              "      <td>0</td>\n",
              "      <td>0</td>\n",
              "      <td>0</td>\n",
              "      <td>...</td>\n",
              "      <td>0</td>\n",
              "      <td>0</td>\n",
              "      <td>0</td>\n",
              "      <td>0</td>\n",
              "      <td>0</td>\n",
              "      <td>0</td>\n",
              "      <td>0</td>\n",
              "      <td>0</td>\n",
              "      <td>0</td>\n",
              "      <td>0</td>\n",
              "      <td>0</td>\n",
              "      <td>0</td>\n",
              "      <td>0</td>\n",
              "      <td>0</td>\n",
              "      <td>0</td>\n",
              "      <td>0</td>\n",
              "      <td>0</td>\n",
              "      <td>0</td>\n",
              "      <td>1</td>\n",
              "      <td>0</td>\n",
              "      <td>0</td>\n",
              "      <td>0</td>\n",
              "      <td>0</td>\n",
              "      <td>0</td>\n",
              "      <td>0</td>\n",
              "      <td>0</td>\n",
              "      <td>0</td>\n",
              "    </tr>\n",
              "    <tr>\n",
              "      <th>3</th>\n",
              "      <td>0</td>\n",
              "      <td>0</td>\n",
              "      <td>0</td>\n",
              "      <td>0</td>\n",
              "      <td>0</td>\n",
              "      <td>0</td>\n",
              "      <td>0</td>\n",
              "      <td>0</td>\n",
              "      <td>0</td>\n",
              "      <td>0</td>\n",
              "      <td>0</td>\n",
              "      <td>0</td>\n",
              "      <td>0</td>\n",
              "      <td>0</td>\n",
              "      <td>0</td>\n",
              "      <td>0</td>\n",
              "      <td>0</td>\n",
              "      <td>0</td>\n",
              "      <td>0</td>\n",
              "      <td>0</td>\n",
              "      <td>0</td>\n",
              "      <td>0</td>\n",
              "      <td>0</td>\n",
              "      <td>0</td>\n",
              "      <td>0</td>\n",
              "      <td>0</td>\n",
              "      <td>0</td>\n",
              "      <td>...</td>\n",
              "      <td>0</td>\n",
              "      <td>0</td>\n",
              "      <td>0</td>\n",
              "      <td>0</td>\n",
              "      <td>0</td>\n",
              "      <td>0</td>\n",
              "      <td>0</td>\n",
              "      <td>0</td>\n",
              "      <td>0</td>\n",
              "      <td>0</td>\n",
              "      <td>0</td>\n",
              "      <td>0</td>\n",
              "      <td>0</td>\n",
              "      <td>0</td>\n",
              "      <td>0</td>\n",
              "      <td>0</td>\n",
              "      <td>0</td>\n",
              "      <td>0</td>\n",
              "      <td>0</td>\n",
              "      <td>0</td>\n",
              "      <td>0</td>\n",
              "      <td>0</td>\n",
              "      <td>0</td>\n",
              "      <td>0</td>\n",
              "      <td>0</td>\n",
              "      <td>0</td>\n",
              "      <td>0</td>\n",
              "    </tr>\n",
              "    <tr>\n",
              "      <th>4</th>\n",
              "      <td>0</td>\n",
              "      <td>0</td>\n",
              "      <td>0</td>\n",
              "      <td>0</td>\n",
              "      <td>0</td>\n",
              "      <td>0</td>\n",
              "      <td>0</td>\n",
              "      <td>0</td>\n",
              "      <td>0</td>\n",
              "      <td>0</td>\n",
              "      <td>0</td>\n",
              "      <td>0</td>\n",
              "      <td>0</td>\n",
              "      <td>0</td>\n",
              "      <td>0</td>\n",
              "      <td>0</td>\n",
              "      <td>0</td>\n",
              "      <td>0</td>\n",
              "      <td>0</td>\n",
              "      <td>0</td>\n",
              "      <td>0</td>\n",
              "      <td>0</td>\n",
              "      <td>0</td>\n",
              "      <td>0</td>\n",
              "      <td>0</td>\n",
              "      <td>0</td>\n",
              "      <td>0</td>\n",
              "      <td>...</td>\n",
              "      <td>0</td>\n",
              "      <td>0</td>\n",
              "      <td>0</td>\n",
              "      <td>0</td>\n",
              "      <td>0</td>\n",
              "      <td>0</td>\n",
              "      <td>0</td>\n",
              "      <td>0</td>\n",
              "      <td>0</td>\n",
              "      <td>0</td>\n",
              "      <td>0</td>\n",
              "      <td>0</td>\n",
              "      <td>0</td>\n",
              "      <td>0</td>\n",
              "      <td>0</td>\n",
              "      <td>0</td>\n",
              "      <td>0</td>\n",
              "      <td>0</td>\n",
              "      <td>0</td>\n",
              "      <td>0</td>\n",
              "      <td>0</td>\n",
              "      <td>0</td>\n",
              "      <td>0</td>\n",
              "      <td>0</td>\n",
              "      <td>0</td>\n",
              "      <td>0</td>\n",
              "      <td>0</td>\n",
              "    </tr>\n",
              "  </tbody>\n",
              "</table>\n",
              "<p>5 rows × 8151 columns</p>\n",
              "</div>\n",
              "    <div class=\"colab-df-buttons\">\n",
              "\n",
              "  <div class=\"colab-df-container\">\n",
              "    <button class=\"colab-df-convert\" onclick=\"convertToInteractive('df-8d2e1066-bd6e-49c0-baa1-f2caffdd1ca5')\"\n",
              "            title=\"Convert this dataframe to an interactive table.\"\n",
              "            style=\"display:none;\">\n",
              "\n",
              "  <svg xmlns=\"http://www.w3.org/2000/svg\" height=\"24px\" viewBox=\"0 -960 960 960\">\n",
              "    <path d=\"M120-120v-720h720v720H120Zm60-500h600v-160H180v160Zm220 220h160v-160H400v160Zm0 220h160v-160H400v160ZM180-400h160v-160H180v160Zm440 0h160v-160H620v160ZM180-180h160v-160H180v160Zm440 0h160v-160H620v160Z\"/>\n",
              "  </svg>\n",
              "    </button>\n",
              "\n",
              "  <style>\n",
              "    .colab-df-container {\n",
              "      display:flex;\n",
              "      gap: 12px;\n",
              "    }\n",
              "\n",
              "    .colab-df-convert {\n",
              "      background-color: #E8F0FE;\n",
              "      border: none;\n",
              "      border-radius: 50%;\n",
              "      cursor: pointer;\n",
              "      display: none;\n",
              "      fill: #1967D2;\n",
              "      height: 32px;\n",
              "      padding: 0 0 0 0;\n",
              "      width: 32px;\n",
              "    }\n",
              "\n",
              "    .colab-df-convert:hover {\n",
              "      background-color: #E2EBFA;\n",
              "      box-shadow: 0px 1px 2px rgba(60, 64, 67, 0.3), 0px 1px 3px 1px rgba(60, 64, 67, 0.15);\n",
              "      fill: #174EA6;\n",
              "    }\n",
              "\n",
              "    .colab-df-buttons div {\n",
              "      margin-bottom: 4px;\n",
              "    }\n",
              "\n",
              "    [theme=dark] .colab-df-convert {\n",
              "      background-color: #3B4455;\n",
              "      fill: #D2E3FC;\n",
              "    }\n",
              "\n",
              "    [theme=dark] .colab-df-convert:hover {\n",
              "      background-color: #434B5C;\n",
              "      box-shadow: 0px 1px 3px 1px rgba(0, 0, 0, 0.15);\n",
              "      filter: drop-shadow(0px 1px 2px rgba(0, 0, 0, 0.3));\n",
              "      fill: #FFFFFF;\n",
              "    }\n",
              "  </style>\n",
              "\n",
              "    <script>\n",
              "      const buttonEl =\n",
              "        document.querySelector('#df-8d2e1066-bd6e-49c0-baa1-f2caffdd1ca5 button.colab-df-convert');\n",
              "      buttonEl.style.display =\n",
              "        google.colab.kernel.accessAllowed ? 'block' : 'none';\n",
              "\n",
              "      async function convertToInteractive(key) {\n",
              "        const element = document.querySelector('#df-8d2e1066-bd6e-49c0-baa1-f2caffdd1ca5');\n",
              "        const dataTable =\n",
              "          await google.colab.kernel.invokeFunction('convertToInteractive',\n",
              "                                                    [key], {});\n",
              "        if (!dataTable) return;\n",
              "\n",
              "        const docLinkHtml = 'Like what you see? Visit the ' +\n",
              "          '<a target=\"_blank\" href=https://colab.research.google.com/notebooks/data_table.ipynb>data table notebook</a>'\n",
              "          + ' to learn more about interactive tables.';\n",
              "        element.innerHTML = '';\n",
              "        dataTable['output_type'] = 'display_data';\n",
              "        await google.colab.output.renderOutput(dataTable, element);\n",
              "        const docLink = document.createElement('div');\n",
              "        docLink.innerHTML = docLinkHtml;\n",
              "        element.appendChild(docLink);\n",
              "      }\n",
              "    </script>\n",
              "  </div>\n",
              "\n",
              "\n",
              "<div id=\"df-5a4ea9cd-ee48-4662-a402-21005463626f\">\n",
              "  <button class=\"colab-df-quickchart\" onclick=\"quickchart('df-5a4ea9cd-ee48-4662-a402-21005463626f')\"\n",
              "            title=\"Suggest charts\"\n",
              "            style=\"display:none;\">\n",
              "\n",
              "<svg xmlns=\"http://www.w3.org/2000/svg\" height=\"24px\"viewBox=\"0 0 24 24\"\n",
              "     width=\"24px\">\n",
              "    <g>\n",
              "        <path d=\"M19 3H5c-1.1 0-2 .9-2 2v14c0 1.1.9 2 2 2h14c1.1 0 2-.9 2-2V5c0-1.1-.9-2-2-2zM9 17H7v-7h2v7zm4 0h-2V7h2v10zm4 0h-2v-4h2v4z\"/>\n",
              "    </g>\n",
              "</svg>\n",
              "  </button>\n",
              "\n",
              "<style>\n",
              "  .colab-df-quickchart {\n",
              "      --bg-color: #E8F0FE;\n",
              "      --fill-color: #1967D2;\n",
              "      --hover-bg-color: #E2EBFA;\n",
              "      --hover-fill-color: #174EA6;\n",
              "      --disabled-fill-color: #AAA;\n",
              "      --disabled-bg-color: #DDD;\n",
              "  }\n",
              "\n",
              "  [theme=dark] .colab-df-quickchart {\n",
              "      --bg-color: #3B4455;\n",
              "      --fill-color: #D2E3FC;\n",
              "      --hover-bg-color: #434B5C;\n",
              "      --hover-fill-color: #FFFFFF;\n",
              "      --disabled-bg-color: #3B4455;\n",
              "      --disabled-fill-color: #666;\n",
              "  }\n",
              "\n",
              "  .colab-df-quickchart {\n",
              "    background-color: var(--bg-color);\n",
              "    border: none;\n",
              "    border-radius: 50%;\n",
              "    cursor: pointer;\n",
              "    display: none;\n",
              "    fill: var(--fill-color);\n",
              "    height: 32px;\n",
              "    padding: 0;\n",
              "    width: 32px;\n",
              "  }\n",
              "\n",
              "  .colab-df-quickchart:hover {\n",
              "    background-color: var(--hover-bg-color);\n",
              "    box-shadow: 0 1px 2px rgba(60, 64, 67, 0.3), 0 1px 3px 1px rgba(60, 64, 67, 0.15);\n",
              "    fill: var(--button-hover-fill-color);\n",
              "  }\n",
              "\n",
              "  .colab-df-quickchart-complete:disabled,\n",
              "  .colab-df-quickchart-complete:disabled:hover {\n",
              "    background-color: var(--disabled-bg-color);\n",
              "    fill: var(--disabled-fill-color);\n",
              "    box-shadow: none;\n",
              "  }\n",
              "\n",
              "  .colab-df-spinner {\n",
              "    border: 2px solid var(--fill-color);\n",
              "    border-color: transparent;\n",
              "    border-bottom-color: var(--fill-color);\n",
              "    animation:\n",
              "      spin 1s steps(1) infinite;\n",
              "  }\n",
              "\n",
              "  @keyframes spin {\n",
              "    0% {\n",
              "      border-color: transparent;\n",
              "      border-bottom-color: var(--fill-color);\n",
              "      border-left-color: var(--fill-color);\n",
              "    }\n",
              "    20% {\n",
              "      border-color: transparent;\n",
              "      border-left-color: var(--fill-color);\n",
              "      border-top-color: var(--fill-color);\n",
              "    }\n",
              "    30% {\n",
              "      border-color: transparent;\n",
              "      border-left-color: var(--fill-color);\n",
              "      border-top-color: var(--fill-color);\n",
              "      border-right-color: var(--fill-color);\n",
              "    }\n",
              "    40% {\n",
              "      border-color: transparent;\n",
              "      border-right-color: var(--fill-color);\n",
              "      border-top-color: var(--fill-color);\n",
              "    }\n",
              "    60% {\n",
              "      border-color: transparent;\n",
              "      border-right-color: var(--fill-color);\n",
              "    }\n",
              "    80% {\n",
              "      border-color: transparent;\n",
              "      border-right-color: var(--fill-color);\n",
              "      border-bottom-color: var(--fill-color);\n",
              "    }\n",
              "    90% {\n",
              "      border-color: transparent;\n",
              "      border-bottom-color: var(--fill-color);\n",
              "    }\n",
              "  }\n",
              "</style>\n",
              "\n",
              "  <script>\n",
              "    async function quickchart(key) {\n",
              "      const quickchartButtonEl =\n",
              "        document.querySelector('#' + key + ' button');\n",
              "      quickchartButtonEl.disabled = true;  // To prevent multiple clicks.\n",
              "      quickchartButtonEl.classList.add('colab-df-spinner');\n",
              "      try {\n",
              "        const charts = await google.colab.kernel.invokeFunction(\n",
              "            'suggestCharts', [key], {});\n",
              "      } catch (error) {\n",
              "        console.error('Error during call to suggestCharts:', error);\n",
              "      }\n",
              "      quickchartButtonEl.classList.remove('colab-df-spinner');\n",
              "      quickchartButtonEl.classList.add('colab-df-quickchart-complete');\n",
              "    }\n",
              "    (() => {\n",
              "      let quickchartButtonEl =\n",
              "        document.querySelector('#df-5a4ea9cd-ee48-4662-a402-21005463626f button');\n",
              "      quickchartButtonEl.style.display =\n",
              "        google.colab.kernel.accessAllowed ? 'block' : 'none';\n",
              "    })();\n",
              "  </script>\n",
              "</div>\n",
              "\n",
              "    </div>\n",
              "  </div>\n"
            ],
            "application/vnd.google.colaboratory.intrinsic+json": {
              "type": "dataframe",
              "variable_name": "tf_df"
            }
          },
          "metadata": {},
          "execution_count": 38
        }
      ]
    },
    {
      "cell_type": "markdown",
      "source": [
        "## Step 3: Normalized Term Frequency (TF-IDF)\n",
        "\n",
        "While term frequency is useful, it doesn't take into account the fact that some words appear frequently across many documents, making them less informative. **TF-IDF** adjusts for this by considering both the frequency of a word in a document and how common it is across all documents.\n",
        "\n",
        "The idea is that terms that appear often in one document but not in many others are more significant than words that appear frequently across all documents.\n",
        "\n",
        "To compute TF-IDF, we can use scikit-learn's `TfidfVectorizer`.\n",
        "\n",
        "```python\n",
        "# Create a TfidfVectorizer object to compute TF-IDF\n",
        "tfidf_vectorizer = TfidfVectorizer()\n",
        "tfidf_matrix = tfidf_vectorizer.fit_transform(df['abstract_inverted_index'])  # Replace with actual field\n",
        "\n",
        "# Get the TF-IDF matrix\n",
        "tfidf_df = pd.DataFrame(tfidf_matrix.toarray(), columns=tfidf_vectorizer.get_feature_names_out())\n",
        "print(tfidf_df.head())\n",
        "```\n",
        "\n",
        "The TF-IDF matrix is similar to the TF matrix, but the values represent the importance of each word after considering both its frequency in individual documents and its prevalence across all documents.\n",
        "\n",
        "**Advancing your learning**: How would you apply this to the OpenAlex dataset?\n",
        "\n",
        "Hints:\n",
        "\n",
        "* How would you adapt what you did in the `CountVectorizer` code to apply TF-IDF instead to the OpenAlex dataset?"
      ],
      "metadata": {
        "id": "dkZFhc52ffHP"
      }
    },
    {
      "cell_type": "code",
      "source": [],
      "metadata": {
        "id": "ueW1wzSIgRTG"
      },
      "execution_count": null,
      "outputs": []
    },
    {
      "cell_type": "markdown",
      "source": [
        "## Step 4: Constructing N-grams\n",
        "\n",
        "**N-grams** are contiguous sequences of n words. In many NLP tasks, n-grams are used as features, as they provide more context than individual words. For example, the bigram \"climate change\" captures more meaning than just \"climate\" or \"change\" in isolation.\n",
        "\n",
        "We will construct n-grams (bigrams, trigrams) from the abstracts and explore how to generate these sequences.\n",
        "\n",
        "```python\n",
        "# Function to generate n-grams\n",
        "def generate_ngrams(text, n=2):\n",
        "    tokens = text.split()  # Tokenize by spaces\n",
        "    return list(ngrams(tokens, n))\n",
        "\n",
        "# Example: Generate bigrams and trigrams for the first document\n",
        "bigrams = generate_ngrams(df['abstract_inverted_index'][0], n=2)\n",
        "trigrams = generate_ngrams(df['abstract_inverted_index'][0], n=3)\n",
        "\n",
        "print(\"Bigrams:\", bigrams)\n",
        "print(\"Trigrams:\", trigrams)\n",
        "```\n",
        "\n",
        "By tokenizing the text into words and then grouping those tokens into n-grams, we can capture phrases and contextual meaning that is useful for classification, topic modeling, or sentiment analysis.\n",
        "\n",
        "**Advancing your learning**: How would you apply this to the OpenAlex dataset?\n",
        "\n",
        "* What column would you use from `biocultural_big`?\n",
        "* How would you apply the ngram model?"
      ],
      "metadata": {
        "id": "966JYWC8gRuV"
      }
    },
    {
      "cell_type": "code",
      "source": [],
      "metadata": {
        "id": "rxWN-yrcgfg4"
      },
      "execution_count": null,
      "outputs": []
    },
    {
      "cell_type": "markdown",
      "source": [
        "## Step 5: Sentiment Analysis with Lexicon Approach (Using the 20 Newsgroups Dataset)\n",
        "\n",
        "**Sentiment analysis** is the task of determining the sentiment (positive, negative, or neutral) of a piece of text. In this section, we'll perform sentiment analysis using a lexicon-based approach, applying the VADER sentiment analyzer from NLTK.\n",
        "\n",
        "We'll use the `20 Newsgroups` dataset, which is a collection of newsgroup documents categorized into 20 different topics. This dataset provides a rich variety of topics and language styles, making it ideal for sentiment analysis.\n",
        "\n",
        "We'll analyze the sentiment of the newsgroup posts and classify them as positive, negative, or neutral based on their content.\n",
        "Loading the 20 Newsgroups Dataset\n",
        "\n",
        "The 20 Newsgroups dataset is available directly from `scikit-learn` and contains a collection of approximately 20,000 newsgroup documents, organized into 20 different categories. Here's how to load and inspect it."
      ],
      "metadata": {
        "id": "qDCfrj33gpxY"
      }
    },
    {
      "cell_type": "code",
      "source": [
        "from sklearn.datasets import fetch_20newsgroups\n",
        "\n",
        "# Load the 20 Newsgroups dataset\n",
        "newsgroups = fetch_20newsgroups(subset='all', remove=('headers', 'footers', 'quotes'))\n",
        "\n",
        "# Preview the dataset\n",
        "print(f\"Number of newsgroups: {len(newsgroups.data)}\")\n",
        "print(f\"Categories: {newsgroups.target_names[:5]}\")  # Show first five categories"
      ],
      "metadata": {
        "id": "-pDrkID7g466",
        "colab": {
          "base_uri": "https://localhost:8080/"
        },
        "outputId": "429dcf09-047b-486f-ec20-edaba98e622c"
      },
      "execution_count": null,
      "outputs": [
        {
          "output_type": "stream",
          "name": "stdout",
          "text": [
            "Number of newsgroups: 18846\n",
            "Categories: ['alt.atheism', 'comp.graphics', 'comp.os.ms-windows.misc', 'comp.sys.ibm.pc.hardware', 'comp.sys.mac.hardware']\n"
          ]
        }
      ]
    },
    {
      "cell_type": "markdown",
      "source": [
        "### Sentiment Analysis Using VADER\n",
        "\n",
        "Now that we have the data, let's perform sentiment analysis using the VADER Sentiment Intensity Analyzer ([FMI here](https://github.com/cjhutto/vaderSentiment)). VADER assigns a compound score to each text, which we can use to classify the sentiment as positive, negative, or neutral. Here, I show how we can directly analyze our `biocultural_big` dataset."
      ],
      "metadata": {
        "id": "16u5W06Gg713"
      }
    },
    {
      "cell_type": "code",
      "source": [
        "# Initialize SentimentIntensityAnalyzer\n",
        "sia = SentimentIntensityAnalyzer()\n",
        "\n",
        "# Apply sentiment analysis to the newsgroup posts\n",
        "sentiments = [sia.polarity_scores(text)['compound'] for text in biocultural_big.abstract_text]"
      ],
      "metadata": {
        "id": "7aMNw_iAhEH7"
      },
      "execution_count": null,
      "outputs": []
    },
    {
      "cell_type": "code",
      "source": [
        "# Convert the sentiment scores to labels (positive, neutral, negative)\n",
        "sentiment_labels = ['positive' if score >= 0.05 else 'negative' if score <= -0.05 else 'neutral' for score in sentiments]"
      ],
      "metadata": {
        "id": "6XUKl29YbAN_"
      },
      "execution_count": null,
      "outputs": []
    },
    {
      "cell_type": "code",
      "source": [
        "# Create a DataFrame for easy inspection\n",
        "sentiment_df = pd.DataFrame({\n",
        "    #'text': biocultural_big.abstract_text[:10],  # Show first 10 newsgroup posts as an example\n",
        "    'sentiment_score': sentiments[:10],\n",
        "    'sentiment_label': sentiment_labels[:10]\n",
        "})\n",
        "\n",
        "print(sentiment_df)"
      ],
      "metadata": {
        "colab": {
          "base_uri": "https://localhost:8080/"
        },
        "id": "v7W3iRJYbbpn",
        "outputId": "ba6b553d-418d-447e-ef4b-769251c5c948"
      },
      "execution_count": null,
      "outputs": [
        {
          "output_type": "stream",
          "name": "stdout",
          "text": [
            "   sentiment_score sentiment_label\n",
            "0           0.2023        positive\n",
            "1           0.8625        positive\n",
            "2           0.8363        positive\n",
            "3           0.9921        positive\n",
            "4           0.8625        positive\n",
            "5           0.9816        positive\n",
            "6           0.9022        positive\n",
            "7          -0.5647        negative\n",
            "8           0.6214        positive\n",
            "9           0.9042        positive\n"
          ]
        }
      ]
    },
    {
      "cell_type": "markdown",
      "source": [
        "#### Explanation of the Sentiment Scores\n",
        "\n",
        "The VADER Sentiment Intensity Analyzer provides a compound score that ranges from -1 (most negative) to +1 (most positive). We use this score to classify the sentiment:\n",
        "\n",
        "* Positive: `compound score` $\\geq 0.05$\n",
        "* Neutral: (`compound score > -0.05`) and (`compound score < 0.05`)\n",
        "* Negative: `compound score <= -0.05`\n",
        "\n",
        "In this example, we display the sentiment score and label for the first 10 documents in the dataset. The full dataset would typically be processed in a similar way.\n",
        "Visualizing the Sentiment Distribution\n",
        "\n",
        "To better understand the sentiment distribution across the 20 newsgroups, we can plot the sentiment scores of the posts."
      ],
      "metadata": {
        "id": "-qvleZrYhWbd"
      }
    },
    {
      "cell_type": "code",
      "source": [
        "# Plot the sentiment distribution\n",
        "plt.figure(figsize=(8, 6))\n",
        "plt.hist(sentiments, bins=10, color='skyblue', edgecolor='black')\n",
        "plt.title('Sentiment Distribution for Biocultural Abstracts')\n",
        "plt.xlabel('Sentiment Score')\n",
        "plt.ylabel('Frequency')\n",
        "plt.grid(True)\n",
        "plt.show()"
      ],
      "metadata": {
        "id": "fUGGyHtuh2I5",
        "colab": {
          "base_uri": "https://localhost:8080/",
          "height": 564
        },
        "outputId": "e0e79b9e-4318-4a9a-a5e1-0681e56edd2a"
      },
      "execution_count": null,
      "outputs": [
        {
          "output_type": "display_data",
          "data": {
            "text/plain": [
              "<Figure size 800x600 with 1 Axes>"
            ],
            "image/png": "[encoded data removed]"
          },
          "metadata": {}
        }
      ]
    },
    {
      "cell_type": "markdown",
      "source": [
        "**Advancing your learning**: How would you apply this to the OpenAlex dataset?\n",
        "\n",
        "* How would you apply the `SentimentIntensityAnalyzer` to the OpenAlex abstract data?\n",
        "* What distribution of positive, negative, and neutral values do you see?\n",
        "* What distribution of `compound score`s do you see?"
      ],
      "metadata": {
        "id": "a1D0FYXah8kF"
      }
    },
    {
      "cell_type": "code",
      "source": [],
      "metadata": {
        "id": "nqfzt3bNiYTE"
      },
      "execution_count": null,
      "outputs": []
    },
    {
      "cell_type": "code",
      "source": [],
      "metadata": {
        "id": "tWd5brJQiamf"
      },
      "execution_count": null,
      "outputs": []
    },
    {
      "cell_type": "markdown",
      "source": [
        "## Conclusion\n",
        "\n",
        "This tutorial covered fundamental NLP techniques such as term frequency, TF-IDF, n-grams, and sentiment analysis. These methods are essential tools in many text processing tasks, such as document classification, information retrieval, and opinion mining."
      ],
      "metadata": {
        "id": "AM-okZiria4K"
      }
    }
  ]
}